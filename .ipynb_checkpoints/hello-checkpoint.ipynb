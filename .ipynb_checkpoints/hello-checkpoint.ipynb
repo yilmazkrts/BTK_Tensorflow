{
 "cells": [
  {
   "cell_type": "code",
   "execution_count": 1,
   "id": "87821779",
   "metadata": {},
   "outputs": [
    {
     "name": "stdout",
     "output_type": "stream",
     "text": [
      "hello\n"
     ]
    }
   ],
   "source": [
    "print(\"hello\")"
   ]
  },
  {
   "cell_type": "code",
   "execution_count": 1,
   "id": "b4da1446",
   "metadata": {},
   "outputs": [
    {
     "name": "stdout",
     "output_type": "stream",
     "text": [
      "what is your namesalgın\n",
      "hellosalgın\n"
     ]
    }
   ],
   "source": [
    "print(\"hello\" + input(\"what is your name\"))"
   ]
  },
  {
   "cell_type": "code",
   "execution_count": 2,
   "id": "b4d31664",
   "metadata": {},
   "outputs": [
    {
     "name": "stdout",
     "output_type": "stream",
     "text": [
      "what is your namesalgın\n",
      "hello salgın\n"
     ]
    }
   ],
   "source": [
    "print(\"hello \" + input(\"what is your name\"))"
   ]
  },
  {
   "cell_type": "code",
   "execution_count": null,
   "id": "a8a09b48",
   "metadata": {},
   "outputs": [],
   "source": []
  }
 ],
 "metadata": {
  "kernelspec": {
   "display_name": "Python 3 (ipykernel)",
   "language": "python",
   "name": "python3"
  },
  "language_info": {
   "codemirror_mode": {
    "name": "ipython",
    "version": 3
   },
   "file_extension": ".py",
   "mimetype": "text/x-python",
   "name": "python",
   "nbconvert_exporter": "python",
   "pygments_lexer": "ipython3",
   "version": "3.11.4"
  }
 },
 "nbformat": 4,
 "nbformat_minor": 5
}
