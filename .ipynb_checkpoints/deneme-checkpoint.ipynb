{
 "cells": [
  {
   "cell_type": "raw",
   "id": "b364bc44",
   "metadata": {},
   "source": [
    "liste = [1,2,3,4,5,6]"
   ]
  },
  {
   "cell_type": "code",
   "execution_count": 9,
   "id": "742d6ccc",
   "metadata": {},
   "outputs": [
    {
     "name": "stdout",
     "output_type": "stream",
     "text": [
      "2\n",
      "4\n",
      "6\n"
     ]
    }
   ],
   "source": [
    "for num in liste:\n",
    "    if num % 2 == 0:\n",
    "        print(num)"
   ]
  },
  {
   "cell_type": "code",
   "execution_count": 17,
   "id": "cd4a6b10",
   "metadata": {},
   "outputs": [],
   "source": [
    "def deneme(*args):\n",
    "    return sum(args)"
   ]
  },
  {
   "cell_type": "code",
   "execution_count": 18,
   "id": "1b9af988",
   "metadata": {},
   "outputs": [
    {
     "data": {
      "text/plain": [
       "4048"
      ]
     },
     "execution_count": 18,
     "metadata": {},
     "output_type": "execute_result"
    }
   ],
   "source": [
    "deneme(45,34,534,3435)"
   ]
  },
  {
   "cell_type": "code",
   "execution_count": 21,
   "id": "ca88d542",
   "metadata": {},
   "outputs": [],
   "source": [
    "benimListem = [1,2,3,4,5,6,7,8]\n",
    "def bolme(numara):\n",
    "    return numara / 2\n"
   ]
  },
  {
   "cell_type": "code",
   "execution_count": 22,
   "id": "e167ed67",
   "metadata": {},
   "outputs": [],
   "source": [
    "yeniListe = []\n",
    "for eleman in benimListem:\n",
    "    yeniListe.append(bolme(eleman))\n"
   ]
  },
  {
   "cell_type": "code",
   "execution_count": 23,
   "id": "2f191a1d",
   "metadata": {},
   "outputs": [
    {
     "data": {
      "text/plain": [
       "[0.5, 1.0, 1.5, 2.0, 2.5, 3.0, 3.5, 4.0]"
      ]
     },
     "execution_count": 23,
     "metadata": {},
     "output_type": "execute_result"
    }
   ],
   "source": [
    "yeniListe"
   ]
  },
  {
   "cell_type": "code",
   "execution_count": 24,
   "id": "1d1542af",
   "metadata": {},
   "outputs": [],
   "source": [
    "def kontrolFonksiyonu(string):\n",
    "    return \"a\" in string"
   ]
  },
  {
   "cell_type": "code",
   "execution_count": 27,
   "id": "a6c0311a",
   "metadata": {},
   "outputs": [
    {
     "data": {
      "text/plain": [
       "True"
      ]
     },
     "execution_count": 27,
     "metadata": {},
     "output_type": "execute_result"
    }
   ],
   "source": [
    "kontrolFonksiyonu(\"sancaksız\")"
   ]
  },
  {
   "cell_type": "code",
   "execution_count": 34,
   "id": "5fdca5e6",
   "metadata": {},
   "outputs": [],
   "source": [
    "listem = [\"ahemet\" , \"yakın\" , \"levent\"]"
   ]
  },
  {
   "cell_type": "code",
   "execution_count": 35,
   "id": "90dd0669",
   "metadata": {},
   "outputs": [
    {
     "data": {
      "text/plain": [
       "[True, True, False]"
      ]
     },
     "execution_count": 35,
     "metadata": {},
     "output_type": "execute_result"
    }
   ],
   "source": [
    "list(map(kontrolFonksiyonu , listem))"
   ]
  },
  {
   "cell_type": "code",
   "execution_count": 36,
   "id": "77aae5e3",
   "metadata": {},
   "outputs": [],
   "source": [
    "sonucListesi = [list(map(kontrolFonksiyonu , listem))]"
   ]
  },
  {
   "cell_type": "code",
   "execution_count": 37,
   "id": "f4b8897e",
   "metadata": {},
   "outputs": [
    {
     "data": {
      "text/plain": [
       "[[True, True, False]]"
      ]
     },
     "execution_count": 37,
     "metadata": {},
     "output_type": "execute_result"
    }
   ],
   "source": [
    "sonucListesi"
   ]
  },
  {
   "cell_type": "code",
   "execution_count": 7,
   "id": "4034860d",
   "metadata": {},
   "outputs": [
    {
     "name": "stdout",
     "output_type": "stream",
     "text": [
      "enter your name\n",
      "hebere\n",
      "hellohebere\n"
     ]
    }
   ],
   "source": [
    "print(\"enter your name\")\n",
    "x = input()\n",
    "print(\"hello \" + x)"
   ]
  },
  {
   "cell_type": "code",
   "execution_count": 13,
   "id": "2c0f1ca4",
   "metadata": {},
   "outputs": [
    {
     "name": "stdout",
     "output_type": "stream",
     "text": [
      "enter number3\n",
      "enter number7\n",
      "5.0\n"
     ]
    }
   ],
   "source": [
    "x = int(input(\"enter number\"))\n",
    "y = int(input(\"enter number\"))\n",
    "ort = (x+y)/2\n",
    "print(ort)"
   ]
  },
  {
   "cell_type": "code",
   "execution_count": 2,
   "id": "56f7edd5",
   "metadata": {},
   "outputs": [
    {
     "name": "stdout",
     "output_type": "stream",
     "text": [
      "enter your nama\n",
      "Kara\n",
      "hello Kara\n"
     ]
    }
   ],
   "source": [
    "print(\"enter your nama\")\n",
    "name = input()\n",
    "print(\"hello \" + name)"
   ]
  },
  {
   "cell_type": "code",
   "execution_count": 11,
   "id": "a95295da",
   "metadata": {},
   "outputs": [
    {
     "name": "stdout",
     "output_type": "stream",
     "text": [
      "hello\n"
     ]
    }
   ],
   "source": [
    "def fonksiyon():\n",
    "    print(\"hello\")\n",
    "    \n",
    "fonksiyon()"
   ]
  },
  {
   "cell_type": "code",
   "execution_count": 13,
   "id": "4bcf6632",
   "metadata": {},
   "outputs": [
    {
     "name": "stdout",
     "output_type": "stream",
     "text": [
      "a+b = 10\n"
     ]
    }
   ],
   "source": [
    "a = 7 \n",
    "b = 3 \n",
    "print(\"a+b\", \"=\", a+b)"
   ]
  },
  {
   "cell_type": "code",
   "execution_count": 9,
   "id": "56e55327",
   "metadata": {},
   "outputs": [
    {
     "name": "stdout",
     "output_type": "stream",
     "text": [
      "hello heberehübere\n"
     ]
    }
   ],
   "source": [
    "def hello(name):\n",
    "    print(\"hello \"+name)\n",
    "hello(\"heberehübere\")"
   ]
  },
  {
   "cell_type": "raw",
   "id": "6a2faccc",
   "metadata": {},
   "source": [
    "isim = \"btk\"\n",
    "isim[0]"
   ]
  },
  {
   "cell_type": "code",
   "execution_count": 11,
   "id": "d33c3793",
   "metadata": {},
   "outputs": [
    {
     "data": {
      "text/plain": [
       "'t'"
      ]
     },
     "execution_count": 11,
     "metadata": {},
     "output_type": "execute_result"
    }
   ],
   "source": [
    "isim = \"btk\"\n",
    "isim[1]"
   ]
  },
  {
   "cell_type": "code",
   "execution_count": 12,
   "id": "5beedda5",
   "metadata": {},
   "outputs": [
    {
     "name": "stdout",
     "output_type": "stream",
     "text": [
      "Hello World!\n"
     ]
    }
   ],
   "source": [
    "text = \"Hello, World!\"\n",
    "part1 = text[:5]  # Slice the string from the beginning to the 5th character\n",
    "part2 = text[7:]  # Slice the string from the 7th character to the end\n",
    "print(part1, part2)\n"
   ]
  },
  {
   "cell_type": "code",
   "execution_count": 13,
   "id": "79386eb7",
   "metadata": {},
   "outputs": [
    {
     "name": "stdout",
     "output_type": "stream",
     "text": [
      "Hello\n"
     ]
    }
   ],
   "source": [
    "text = \"Hello, World!\"\n",
    "part1 = text[:5]  # Slice the string from the beginning to the 5th character\n",
    "part2 = text[7:]  # Slice the string from the 7th character to the end\n",
    "print(part1)\n"
   ]
  },
  {
   "cell_type": "code",
   "execution_count": 15,
   "id": "3fce62ff",
   "metadata": {},
   "outputs": [
    {
     "ename": "TypeError",
     "evalue": "'str' object does not support item assignment",
     "output_type": "error",
     "traceback": [
      "\u001b[0;31m---------------------------------------------------------------------------\u001b[0m",
      "\u001b[0;31mTypeError\u001b[0m                                 Traceback (most recent call last)",
      "Cell \u001b[0;32mIn[15], line 2\u001b[0m\n\u001b[1;32m      1\u001b[0m text \u001b[38;5;241m=\u001b[39m \u001b[38;5;124m\"\u001b[39m\u001b[38;5;124mHello, World!\u001b[39m\u001b[38;5;124m\"\u001b[39m\n\u001b[0;32m----> 2\u001b[0m text[:\u001b[38;5;241m5\u001b[39m]\u001b[38;5;241m=\u001b[39m \u001b[38;5;124m\"\u001b[39m\u001b[38;5;124mMerhaba\u001b[39m\u001b[38;5;124m\"\u001b[39m\n",
      "\u001b[0;31mTypeError\u001b[0m: 'str' object does not support item assignment"
     ]
    }
   ],
   "source": [
    "text = \"Hello, World!\"\n",
    "text[:5]= \"Merhaba\""
   ]
  },
  {
   "cell_type": "code",
   "execution_count": 28,
   "id": "284bb890",
   "metadata": {},
   "outputs": [
    {
     "name": "stdout",
     "output_type": "stream",
     "text": [
      "b\n",
      "t\n",
      "k\n",
      "a\n",
      "k\n",
      "a\n",
      "d\n",
      "e\n",
      "m\n",
      "i\n"
     ]
    }
   ],
   "source": [
    "for d in \"btkakademi\":\n",
    "    print(d)"
   ]
  },
  {
   "cell_type": "code",
   "execution_count": 30,
   "id": "2f9830ac",
   "metadata": {},
   "outputs": [
    {
     "data": {
      "text/plain": [
       "8"
      ]
     },
     "execution_count": 30,
     "metadata": {},
     "output_type": "execute_result"
    }
   ],
   "source": [
    "benimListem = [1,2,3,4,5,6,7,8]\n",
    "len(benimListem)\n"
   ]
  },
  {
   "cell_type": "code",
   "execution_count": null,
   "id": "33d30820",
   "metadata": {},
   "outputs": [],
   "source": []
  }
 ],
 "metadata": {
  "kernelspec": {
   "display_name": "Python 3 (ipykernel)",
   "language": "python",
   "name": "python3"
  },
  "language_info": {
   "codemirror_mode": {
    "name": "ipython",
    "version": 3
   },
   "file_extension": ".py",
   "mimetype": "text/x-python",
   "name": "python",
   "nbconvert_exporter": "python",
   "pygments_lexer": "ipython3",
   "version": "3.11.4"
  }
 },
 "nbformat": 4,
 "nbformat_minor": 5
}
