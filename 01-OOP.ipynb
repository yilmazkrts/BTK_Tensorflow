{
 "cells": [
  {
   "cell_type": "code",
   "execution_count": 8,
   "id": "f6c9237f",
   "metadata": {},
   "outputs": [],
   "source": [
    "class SuperKahraman():\n",
    "    def __init__(self,isim,yas,meslek):\n",
    "        self.isim = isim\n",
    "        self.yas = yas\n",
    "        self.meslek = meslek\n",
    "        \n",
    "            \n",
    "    def ornekMethod(self):\n",
    "        print(f\"benim mesleğim: {self.meslek} \")"
   ]
  },
  {
   "cell_type": "code",
   "execution_count": 9,
   "id": "f7767ec3",
   "metadata": {},
   "outputs": [],
   "source": [
    "superman = SuperKahraman(\"Clark Kent\",30,\"Gazeteci\")"
   ]
  },
  {
   "cell_type": "code",
   "execution_count": 10,
   "id": "5c1bd5ad",
   "metadata": {},
   "outputs": [
    {
     "data": {
      "text/plain": [
       "'Clark Kent'"
      ]
     },
     "execution_count": 10,
     "metadata": {},
     "output_type": "execute_result"
    }
   ],
   "source": [
    "superman.isim"
   ]
  },
  {
   "cell_type": "code",
   "execution_count": 11,
   "id": "dd62f37c",
   "metadata": {},
   "outputs": [
    {
     "name": "stdout",
     "output_type": "stream",
     "text": [
      "benim mesleğim: Gazeteci \n"
     ]
    }
   ],
   "source": [
    "superman.ornekMethod()"
   ]
  },
  {
   "cell_type": "code",
   "execution_count": 20,
   "id": "97ee4078",
   "metadata": {},
   "outputs": [],
   "source": [
    "class Person():\n",
    "    def __init__(self,name,lastname,personNumber):\n",
    "        self.name = name\n",
    "        self.lastname = lastname\n",
    "        self.personenumber = personNumber\n",
    "        \n",
    "    def denemeMethod(self):\n",
    "        print(\"Örnek Method\")"
   ]
  },
  {
   "cell_type": "code",
   "execution_count": 21,
   "id": "9b7cfdf2",
   "metadata": {},
   "outputs": [],
   "source": [
    "ali = Person(\"Ali\",\"HAZIR\",1)   # Yapıcı metot, sınıfın başlatılmasını ve özelliklerin (attributes) atanmasını sağlar. \n",
    "veli = Person(\"Veli\",\"DEĞİL\",2) #Bu durumda, name ve age adında iki özellik (attribute) tanımlanmış.\n",
    "ahmet = Person(\"Ahmet\",\"YAZIR\",3)"
   ]
  },
  {
   "cell_type": "code",
   "execution_count": 22,
   "id": "e23847d4",
   "metadata": {},
   "outputs": [
    {
     "data": {
      "text/plain": [
       "'Ali'"
      ]
     },
     "execution_count": 22,
     "metadata": {},
     "output_type": "execute_result"
    }
   ],
   "source": [
    "ali.name"
   ]
  },
  {
   "cell_type": "code",
   "execution_count": 25,
   "id": "b77f2df1",
   "metadata": {},
   "outputs": [
    {
     "name": "stdout",
     "output_type": "stream",
     "text": [
      "Örnek Method\n"
     ]
    }
   ],
   "source": [
    "ali.denemeMethod()"
   ]
  },
  {
   "cell_type": "code",
   "execution_count": null,
   "id": "21e687a3",
   "metadata": {},
   "outputs": [],
   "source": []
  }
 ],
 "metadata": {
  "kernelspec": {
   "display_name": "Python 3 (ipykernel)",
   "language": "python",
   "name": "python3"
  },
  "language_info": {
   "codemirror_mode": {
    "name": "ipython",
    "version": 3
   },
   "file_extension": ".py",
   "mimetype": "text/x-python",
   "name": "python",
   "nbconvert_exporter": "python",
   "pygments_lexer": "ipython3",
   "version": "3.11.4"
  }
 },
 "nbformat": 4,
 "nbformat_minor": 5
}
