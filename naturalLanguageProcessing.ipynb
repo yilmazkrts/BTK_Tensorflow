{
 "cells": [
  {
   "cell_type": "code",
   "execution_count": 16,
   "id": "3f984676-9c85-42af-92da-968c316cd96a",
   "metadata": {},
   "outputs": [
    {
     "name": "stdout",
     "output_type": "stream",
     "text": [
      "['Natural language processing (NLP) is a field of computer science, artificial intelligence and computational linguistics concerned with the interactions between computers and human (natural) languages, and, in particular, concerned with programming computers to fruitfully process large natural language corpora.', 'Challenges in natural language processing frequently involve natural language understanding, natural languagegeneration frequently from formal, machine-readable logical forms), connecting language and machine perception, managing human-computer dialog systems, or some combination thereof.']\n",
      "['Natural', 'language', 'processing', '(', 'NLP', ')', 'is', 'a', 'field', 'of', 'computer', 'science', ',', 'artificial', 'intelligence', 'and', 'computational', 'linguistics', 'concerned', 'with', 'the', 'interactions', 'between', 'computers', 'and', 'human', '(', 'natural', ')', 'languages', ',', 'and', ',', 'in', 'particular', ',', 'concerned', 'with', 'programming', 'computers', 'to', 'fruitfully', 'process', 'large', 'natural', 'language', 'corpora', '.', 'Challenges', 'in', 'natural', 'language', 'processing', 'frequently', 'involve', 'natural', 'language', 'understanding', ',', 'natural', 'languagegeneration', 'frequently', 'from', 'formal', ',', 'machine-readable', 'logical', 'forms', ')', ',', 'connecting', 'language', 'and', 'machine', 'perception', ',', 'managing', 'human-computer', 'dialog', 'systems', ',', 'or', 'some', 'combination', 'thereof', '.']\n"
     ]
    },
    {
     "name": "stderr",
     "output_type": "stream",
     "text": [
      "[nltk_data] Downloading package punkt to\n",
      "[nltk_data]     /Users/yilmazkaratas/nltk_data...\n",
      "[nltk_data]   Package punkt is already up-to-date!\n"
     ]
    }
   ],
   "source": [
    "import nltk\n",
    "nltk.download('punkt')\n",
    "\n",
    "\n",
    "from nltk.tokenize import sent_tokenize, word_tokenize \n",
    "\n",
    "text = (\"Natural language processing (NLP) is a field \" +\n",
    "        \"of computer science, artificial intelligence \" +\n",
    "        \"and computational linguistics concerned with \" +\n",
    "        \"the interactions between computers and human \" +\n",
    "        \"(natural) languages, and, in particular, \" +\n",
    "        \"concerned with programming computers to \" +\n",
    "        \"fruitfully process large natural language \" +\n",
    "        \"corpora. Challenges in natural language \" +\n",
    "        \"processing frequently involve natural \" +\n",
    "        \"language understanding, natural language\" +\n",
    "        \"generation frequently from formal, machine\" +\n",
    "        \"-readable logical forms), connecting language \" +\n",
    "        \"and machine perception, managing human-\" +\n",
    "        \"computer dialog systems, or some combination \" +\n",
    "        \"thereof.\")\n",
    "\n",
    "print(sent_tokenize(text)) \n",
    "print(word_tokenize(text))\n"
   ]
  },
  {
   "cell_type": "code",
   "execution_count": null,
   "id": "ee31fc60-c40b-4ef4-9007-bc9737376a7d",
   "metadata": {},
   "outputs": [],
   "source": []
  }
 ],
 "metadata": {
  "kernelspec": {
   "display_name": "Python 3 (ipykernel)",
   "language": "python",
   "name": "python3"
  },
  "language_info": {
   "codemirror_mode": {
    "name": "ipython",
    "version": 3
   },
   "file_extension": ".py",
   "mimetype": "text/x-python",
   "name": "python",
   "nbconvert_exporter": "python",
   "pygments_lexer": "ipython3",
   "version": "3.11.5"
  }
 },
 "nbformat": 4,
 "nbformat_minor": 5
}
