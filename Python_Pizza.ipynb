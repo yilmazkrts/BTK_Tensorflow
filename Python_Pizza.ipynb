{
 "cells": [
  {
   "cell_type": "code",
   "execution_count": 2,
   "id": "5fb10cb8",
   "metadata": {},
   "outputs": [
    {
     "name": "stdout",
     "output_type": "stream",
     "text": [
      "enter your pizza.S, M, LS\n",
      "Y\n",
      "Y\n",
      "19\n"
     ]
    }
   ],
   "source": [
    "chosen_pizza = input(\"enter your pizza.S, M, L: \") #Enter S, M OR L\n",
    "add_pepper = input(\"\")  #Y or N\n",
    "extra_chees = input(\"\")   #Y or next\n",
    "\n",
    "bill = 0\n",
    "\n",
    "if chosen_pizza == \"S\":\n",
    "    bill += 15\n",
    "   \n",
    "\n",
    "elif chosen_pizza ==  \"M\":\n",
    "    bill += 20\n",
    "\n",
    "elif chosen_pizza ==  \"L\":\n",
    "    bill += 25\n",
    "    \n",
    "    \n",
    "            \n",
    "if add_pepper == \"Y\":\n",
    "    bill += 2\n",
    "   \n",
    "\n",
    "elif add_pepper == N:\n",
    "    bill == bill\n",
    "    \n",
    "    \n",
    "if extra_chees == \"Y\":\n",
    "    bill += 2\n",
    "   \n",
    "\n",
    "elif extra_chees == N:\n",
    "    bill == bill    \n",
    "            \n",
    "print(str(bill))        \n"
   ]
  },
  {
   "cell_type": "code",
   "execution_count": null,
   "id": "536a4f93",
   "metadata": {},
   "outputs": [],
   "source": []
  }
 ],
 "metadata": {
  "kernelspec": {
   "display_name": "Python 3 (ipykernel)",
   "language": "python",
   "name": "python3"
  },
  "language_info": {
   "codemirror_mode": {
    "name": "ipython",
    "version": 3
   },
   "file_extension": ".py",
   "mimetype": "text/x-python",
   "name": "python",
   "nbconvert_exporter": "python",
   "pygments_lexer": "ipython3",
   "version": "3.11.4"
  }
 },
 "nbformat": 4,
 "nbformat_minor": 5
}
