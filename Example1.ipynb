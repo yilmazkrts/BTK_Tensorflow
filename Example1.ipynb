{
 "cells": [
  {
   "cell_type": "code",
   "execution_count": 1,
   "id": "e79b7625",
   "metadata": {},
   "outputs": [
    {
     "name": "stdout",
     "output_type": "stream",
     "text": [
      "Please! Enter a number7\n"
     ]
    },
    {
     "data": {
      "text/plain": [
       "'7'"
      ]
     },
     "execution_count": 1,
     "metadata": {},
     "output_type": "execute_result"
    }
   ],
   "source": [
    "input(\"Please! Enter a number\")\n"
   ]
  },
  {
   "cell_type": "code",
   "execution_count": 2,
   "id": "305fd978",
   "metadata": {},
   "outputs": [
    {
     "name": "stdout",
     "output_type": "stream",
     "text": [
      "Please! Enter a number24\n"
     ]
    },
    {
     "data": {
      "text/plain": [
       "'24'"
      ]
     },
     "execution_count": 2,
     "metadata": {},
     "output_type": "execute_result"
    }
   ],
   "source": [
    "input(\"Please! Enter a number\")\n"
   ]
  },
  {
   "cell_type": "code",
   "execution_count": 3,
   "id": "ba328bed",
   "metadata": {},
   "outputs": [
    {
     "name": "stdout",
     "output_type": "stream",
     "text": [
      "Please! Enter a number24\n"
     ]
    }
   ],
   "source": [
    "number = input(\"Please! Enter a number\")"
   ]
  },
  {
   "cell_type": "code",
   "execution_count": 4,
   "id": "867f9159",
   "metadata": {},
   "outputs": [
    {
     "name": "stdout",
     "output_type": "stream",
     "text": [
      "Please! Enter a number24\n"
     ]
    }
   ],
   "source": [
    "number = input(\"Please! Enter a number: \")\n"
   ]
  },
  {
   "cell_type": "code",
   "execution_count": 5,
   "id": "377b4a3d",
   "metadata": {},
   "outputs": [
    {
     "name": "stdout",
     "output_type": "stream",
     "text": [
      "Please! Enter a number: 24\n"
     ]
    }
   ],
   "source": [
    "number = input(\"Please! Enter a number: \")"
   ]
  },
  {
   "cell_type": "code",
   "execution_count": 6,
   "id": "88459c5f",
   "metadata": {},
   "outputs": [
    {
     "ename": "SyntaxError",
     "evalue": "'(' was never closed (1961144686.py, line 4)",
     "output_type": "error",
     "traceback": [
      "\u001b[0;36m  Cell \u001b[0;32mIn[6], line 4\u001b[0;36m\u001b[0m\n\u001b[0;31m    print(str(number1)+str(number2)\u001b[0m\n\u001b[0m         ^\u001b[0m\n\u001b[0;31mSyntaxError\u001b[0m\u001b[0;31m:\u001b[0m '(' was never closed\n"
     ]
    }
   ],
   "source": [
    "print(\"Enter two number\")\n",
    "number1 = input(\"Please! Enter a number1: \")\n",
    "number2 = input(\"Please! Enter a number: \")\n",
    "print(\"str(number1)\"+ \"str(number2)\")\n",
    "      print(number1+number2)"
   ]
  },
  {
   "cell_type": "code",
   "execution_count": 7,
   "id": "6a5d92ff",
   "metadata": {},
   "outputs": [
    {
     "name": "stdout",
     "output_type": "stream",
     "text": [
      "5\n"
     ]
    }
   ],
   "source": [
    "number=5\n",
    "print(str(number))"
   ]
  },
  {
   "cell_type": "code",
   "execution_count": 9,
   "id": "07fda696",
   "metadata": {},
   "outputs": [
    {
     "ename": "IndentationError",
     "evalue": "unexpected indent (340759793.py, line 5)",
     "output_type": "error",
     "traceback": [
      "\u001b[0;36m  Cell \u001b[0;32mIn[9], line 5\u001b[0;36m\u001b[0m\n\u001b[0;31m    print(number1+number2)\u001b[0m\n\u001b[0m    ^\u001b[0m\n\u001b[0;31mIndentationError\u001b[0m\u001b[0;31m:\u001b[0m unexpected indent\n"
     ]
    }
   ],
   "source": [
    "print(\"Enter two number\")\n",
    "number1 = input(\"Please! Enter a number1: \")\n",
    "number2 = input(\"Please! Enter a number: \")\n",
    "print(\"str(number1)\"+ \"str(number2)\")\n",
    " print(number1+number2)"
   ]
  },
  {
   "cell_type": "code",
   "execution_count": 10,
   "id": "5dbc67ba",
   "metadata": {},
   "outputs": [
    {
     "name": "stdout",
     "output_type": "stream",
     "text": [
      "Enter two number\n",
      "Please! Enter a number1: 2\n",
      "Please! Enter a number: 4\n",
      "str(number1)str(number2)\n"
     ]
    }
   ],
   "source": [
    "print(\"Enter two number\")\n",
    "number1 = input(\"Please! Enter a number1: \")\n",
    "number2 = input(\"Please! Enter a number: \")\n",
    "print(str(number1)+ str(number2))"
   ]
  },
  {
   "cell_type": "code",
   "execution_count": 11,
   "id": "d72c6ffc",
   "metadata": {},
   "outputs": [
    {
     "name": "stdout",
     "output_type": "stream",
     "text": [
      "Enter two number\n",
      "Please! Enter a number1: 2\n",
      "Please! Enter a number: 3\n",
      "23\n"
     ]
    }
   ],
   "source": [
    "print(\"Enter two number\")\n",
    "number1 = input(\"Please! Enter a number1: \")\n",
    "number2 = input(\"Please! Enter a number: \")\n",
    "print(str(number1)+ str(number2))"
   ]
  },
  {
   "cell_type": "code",
   "execution_count": 17,
   "id": "1d27f768",
   "metadata": {},
   "outputs": [
    {
     "name": "stdout",
     "output_type": "stream",
     "text": [
      "Enter two number\n",
      "Please! Enter a number1: 2\n",
      "Please! Enter a number: 4\n",
      "24\n",
      "24\n"
     ]
    }
   ],
   "source": [
    "print(\"Enter two number\")\n",
    "number1 = input(\"Please! Enter a number1: \")\n",
    "number2 = input(\"Please! Enter a number: \")\n",
    "print(str(number1)+ str(number2))\n",
    "toplam = number1+number2\n",
    "print(toplam)"
   ]
  },
  {
   "cell_type": "code",
   "execution_count": 18,
   "id": "622c4e25",
   "metadata": {},
   "outputs": [
    {
     "name": "stdout",
     "output_type": "stream",
     "text": [
      "Please! Enter a number1: 2\n",
      "Please! Enter a number: 4\n",
      "24\n"
     ]
    }
   ],
   "source": [
    "number1 = input(\"Please! Enter a number1: \")\n",
    "number2 = input(\"Please! Enter a number: \")\n",
    "print(number1+number2)"
   ]
  },
  {
   "cell_type": "code",
   "execution_count": 20,
   "id": "8e6a7d06",
   "metadata": {},
   "outputs": [
    {
     "name": "stdout",
     "output_type": "stream",
     "text": [
      "Enter two number\n",
      "Please! Enter a number1: 2\n",
      "Please! Enter a number: 4\n",
      "6\n",
      "24\n"
     ]
    }
   ],
   "source": [
    "print(\"Enter two number\")\n",
    "number1 = input(\"Please! Enter a number1: \")\n",
    "number2 = input(\"Please! Enter a number: \")\n",
    "print(int(number1)+int(number2))\n",
    "print(number1+number2)"
   ]
  },
  {
   "cell_type": "code",
   "execution_count": 24,
   "id": "277ab54b",
   "metadata": {},
   "outputs": [
    {
     "name": "stdout",
     "output_type": "stream",
     "text": [
      "Enter two number\n",
      "Please! Enter a number1: 2\n",
      "Please! Enter a number: 4\n",
      "24\n",
      "6\n"
     ]
    }
   ],
   "source": [
    "print(\"Enter two number\")\n",
    "number1 = input(\"Please! Enter a number1: \")\n",
    "number2 = input(\"Please! Enter a number: \")\n",
    "print(number1+number2)\n",
    "print(int(number1)+int(number2))\n"
   ]
  },
  {
   "cell_type": "code",
   "execution_count": 27,
   "id": "1e514663",
   "metadata": {},
   "outputs": [
    {
     "name": "stdout",
     "output_type": "stream",
     "text": [
      "Please! Enter a number1: 3\n"
     ]
    },
    {
     "data": {
      "text/plain": [
       "str"
      ]
     },
     "execution_count": 27,
     "metadata": {},
     "output_type": "execute_result"
    }
   ],
   "source": [
    "number = input(\"Please! Enter a number1: \")\n",
    "type(number)"
   ]
  },
  {
   "cell_type": "code",
   "execution_count": 28,
   "id": "66185eeb",
   "metadata": {},
   "outputs": [
    {
     "ename": "SyntaxError",
     "evalue": "invalid syntax (49201248.py, line 1)",
     "output_type": "error",
     "traceback": [
      "\u001b[0;36m  Cell \u001b[0;32mIn[28], line 1\u001b[0;36m\u001b[0m\n\u001b[0;31m    int number = input(\"Please! Enter a number1: \")\u001b[0m\n\u001b[0m        ^\u001b[0m\n\u001b[0;31mSyntaxError\u001b[0m\u001b[0;31m:\u001b[0m invalid syntax\n"
     ]
    }
   ],
   "source": [
    "int number = input(\"Please! Enter a number1: \")\n",
    "type(number)"
   ]
  },
  {
   "cell_type": "code",
   "execution_count": 29,
   "id": "022c8823",
   "metadata": {
    "scrolled": true
   },
   "outputs": [
    {
     "ename": "SyntaxError",
     "evalue": "invalid syntax (2180534745.py, line 1)",
     "output_type": "error",
     "traceback": [
      "\u001b[0;36m  Cell \u001b[0;32mIn[29], line 1\u001b[0;36m\u001b[0m\n\u001b[0;31m    int number = input(\"Please! Enter a number1: \")\u001b[0m\n\u001b[0m        ^\u001b[0m\n\u001b[0;31mSyntaxError\u001b[0m\u001b[0;31m:\u001b[0m invalid syntax\n"
     ]
    }
   ],
   "source": [
    "int number = input(\"Please! Enter a number1: \")\n"
   ]
  },
  {
   "cell_type": "code",
   "execution_count": 30,
   "id": "c708c778",
   "metadata": {},
   "outputs": [
    {
     "name": "stdout",
     "output_type": "stream",
     "text": [
      "Please! Enter a number24\n",
      "2\n"
     ]
    }
   ],
   "source": [
    "number = input(\"Please! Enter a number\")\n",
    "print(number[0])\n"
   ]
  },
  {
   "cell_type": "code",
   "execution_count": null,
   "id": "77bdd9dd",
   "metadata": {},
   "outputs": [],
   "source": []
  }
 ],
 "metadata": {
  "kernelspec": {
   "display_name": "Python 3 (ipykernel)",
   "language": "python",
   "name": "python3"
  },
  "language_info": {
   "codemirror_mode": {
    "name": "ipython",
    "version": 3
   },
   "file_extension": ".py",
   "mimetype": "text/x-python",
   "name": "python",
   "nbconvert_exporter": "python",
   "pygments_lexer": "ipython3",
   "version": "3.11.4"
  }
 },
 "nbformat": 4,
 "nbformat_minor": 5
}
