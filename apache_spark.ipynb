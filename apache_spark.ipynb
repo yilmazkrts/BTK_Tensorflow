{
 "cells": [
  {
   "cell_type": "code",
   "execution_count": 1,
   "id": "86104e7d-6bac-4580-9189-84c9aea9ae33",
   "metadata": {},
   "outputs": [
    {
     "name": "stdout",
     "output_type": "stream",
     "text": [
      "Collecting pyspark\n",
      "  Downloading pyspark-3.5.1.tar.gz (317.0 MB)\n",
      "\u001b[2K     \u001b[90m━━━━━━━━━━━━━━━━━━━━━━━━━━━━━━━━━━━━━━━\u001b[0m \u001b[32m317.0/317.0 MB\u001b[0m \u001b[31m3.1 MB/s\u001b[0m eta \u001b[36m0:00:00\u001b[0m00:01\u001b[0m00:02\u001b[0m\n",
      "\u001b[?25h  Preparing metadata (setup.py) ... \u001b[?25ldone\n",
      "\u001b[?25hCollecting py4j==0.10.9.7 (from pyspark)\n",
      "  Downloading py4j-0.10.9.7-py2.py3-none-any.whl.metadata (1.5 kB)\n",
      "Downloading py4j-0.10.9.7-py2.py3-none-any.whl (200 kB)\n",
      "\u001b[2K   \u001b[90m━━━━━━━━━━━━━━━━━━━━━━━━━━━━━━━━━━━━━━━━\u001b[0m \u001b[32m200.5/200.5 kB\u001b[0m \u001b[31m5.0 MB/s\u001b[0m eta \u001b[36m0:00:00\u001b[0ma \u001b[36m0:00:01\u001b[0m\n",
      "\u001b[?25hBuilding wheels for collected packages: pyspark\n",
      "  Building wheel for pyspark (setup.py) ... \u001b[?25ldone\n",
      "\u001b[?25h  Created wheel for pyspark: filename=pyspark-3.5.1-py2.py3-none-any.whl size=317488498 sha256=07648b5245313d75357064382706b3b47fadb0a3c95862e6d003139c62cb56de\n",
      "  Stored in directory: /Users/yilmazkaratas/Library/Caches/pip/wheels/95/13/41/f7f135ee114175605fb4f0a89e7389f3742aa6c1e1a5bcb657\n",
      "Successfully built pyspark\n",
      "Installing collected packages: py4j, pyspark\n",
      "Successfully installed py4j-0.10.9.7 pyspark-3.5.1\n"
     ]
    }
   ],
   "source": [
    "!pip install pyspark\n"
   ]
  },
  {
   "cell_type": "code",
   "execution_count": 2,
   "id": "b7e49373-8be7-4846-a86b-346d12c34755",
   "metadata": {},
   "outputs": [],
   "source": [
    "import pyspark"
   ]
  },
  {
   "cell_type": "code",
   "execution_count": 3,
   "id": "34cdc1e9-608d-4353-8590-80d1889c7d53",
   "metadata": {},
   "outputs": [],
   "source": [
    "from pyspark.sql import SparkSession\n"
   ]
  },
  {
   "cell_type": "code",
   "execution_count": 9,
   "id": "79623e29-a5a4-4912-a5fd-8cefe43fe2e8",
   "metadata": {},
   "outputs": [],
   "source": [
    "import os\n",
    "\n",
    "os.environ['SPARK_LOCAL_IP'] = '192.168.1.100'"
   ]
  },
  {
   "cell_type": "code",
   "execution_count": 10,
   "id": "997d7a5c-d444-4110-a13e-014768187e28",
   "metadata": {},
   "outputs": [],
   "source": [
    "spark=SparkSession.builder.appName('Practise').getOrCreate()"
   ]
  },
  {
   "cell_type": "code",
   "execution_count": 18,
   "id": "b8dffc13-cf2a-47b8-899e-3f3fcd047d11",
   "metadata": {},
   "outputs": [
    {
     "data": {
      "text/html": [
       "\n",
       "            <div>\n",
       "                <p><b>SparkSession - in-memory</b></p>\n",
       "                \n",
       "        <div>\n",
       "            <p><b>SparkContext</b></p>\n",
       "\n",
       "            <p><a href=\"http://172.29.17.52:4040\">Spark UI</a></p>\n",
       "\n",
       "            <dl>\n",
       "              <dt>Version</dt>\n",
       "                <dd><code>v3.5.1</code></dd>\n",
       "              <dt>Master</dt>\n",
       "                <dd><code>local[*]</code></dd>\n",
       "              <dt>AppName</dt>\n",
       "                <dd><code>Practise</code></dd>\n",
       "            </dl>\n",
       "        </div>\n",
       "        \n",
       "            </div>\n",
       "        "
      ],
      "text/plain": [
       "<pyspark.sql.session.SparkSession at 0x103ee7c50>"
      ]
     },
     "execution_count": 18,
     "metadata": {},
     "output_type": "execute_result"
    }
   ],
   "source": [
    "spark"
   ]
  },
  {
   "cell_type": "code",
   "execution_count": 19,
   "id": "13bd1d74-af89-48ac-80ea-1bc885be3863",
   "metadata": {},
   "outputs": [],
   "source": [
    "df_spark = spark.read.csv(\"merc2.csv\")"
   ]
  },
  {
   "cell_type": "code",
   "execution_count": 36,
   "id": "8b58767c-1bf7-4c5f-a6dc-f8398ba3c350",
   "metadata": {},
   "outputs": [],
   "source": [
    "df_spark = spark.read.options(header=\"True\", inferSchema=True).csv(\"merc2.csv\")\n",
    "# header=\"True\" =>: This option specifies that the first row of the CSV file contains the column names.\n",
    "# inferSchema=True =>  This option tells Spark to infer the data types of columns in the DataFrame based on the contents of the CSV file."
   ]
  },
  {
   "cell_type": "code",
   "execution_count": 37,
   "id": "da5dc604-0c3e-4932-9a81-0718310d1b36",
   "metadata": {},
   "outputs": [
    {
     "name": "stdout",
     "output_type": "stream",
     "text": [
      "+----+------+------------+-------+---+----+----------+\n",
      "|year| price|transmission|mileage|tax| mpg|engineSize|\n",
      "+----+------+------------+-------+---+----+----------+\n",
      "|2005|  5200|   Automatic|  63000|325|32.1|       1.8|\n",
      "|2017| 34948|   Automatic|  27000| 20|61.4|       2.1|\n",
      "|2016| 49948|   Automatic|   6200|555|28.0|       5.5|\n",
      "|2016| 61948|   Automatic|  16000|325|30.4|       4.0|\n",
      "|2016| 73948|   Automatic|   4000|325|30.1|       4.0|\n",
      "|2011|149948|   Automatic|   3000|570|21.4|       6.2|\n",
      "|2018| 30948|   Automatic|  16000|145|47.9|       2.1|\n",
      "|2012| 10948|   Automatic| 107000|265|36.7|       3.5|\n",
      "|2019|139948|   Automatic|  12000|145|21.4|       4.0|\n",
      "|2017| 19750|   Automatic|  15258| 30|64.2|       2.1|\n",
      "|2020| 32980|   Automatic|    606|145|35.8|       2.0|\n",
      "|2020| 26980|   Automatic|   1000|145|62.8|       1.5|\n",
      "|2019| 23750|   Automatic|    278|145|55.4|       2.0|\n",
      "|2019| 67980|   Automatic|   5500|145|21.7|       4.0|\n",
      "|2016| 18980|   Automatic|  41713|125|56.6|       2.1|\n",
      "|2017| 15890|   Automatic|  24841|150|68.9|       1.5|\n",
      "|2017| 19890|   Automatic|  30281|150|60.1|       2.1|\n",
      "|2019| 56800|   Automatic|   2483|145|29.5|       3.0|\n",
      "|2017| 17513|   Automatic|  14128|150|68.9|       2.1|\n",
      "|2014| 15701|   Automatic|  20498| 20|64.2|       2.1|\n",
      "+----+------+------------+-------+---+----+----------+\n",
      "only showing top 20 rows\n",
      "\n"
     ]
    }
   ],
   "source": [
    "df_spark.show()"
   ]
  },
  {
   "cell_type": "code",
   "execution_count": 38,
   "id": "9105a554-09bc-4ce1-8388-6df9f1f6f185",
   "metadata": {},
   "outputs": [],
   "source": [
    "filtered_df_spark = df_spark.filter(df_spark.year>2004)"
   ]
  },
  {
   "cell_type": "code",
   "execution_count": 39,
   "id": "1a86b626-305b-4f8a-9a6c-91fb7d7cbfec",
   "metadata": {},
   "outputs": [
    {
     "name": "stdout",
     "output_type": "stream",
     "text": [
      "+----+------+------------+-------+---+----+----------+\n",
      "|year| price|transmission|mileage|tax| mpg|engineSize|\n",
      "+----+------+------------+-------+---+----+----------+\n",
      "|2005|  5200|   Automatic|  63000|325|32.1|       1.8|\n",
      "|2017| 34948|   Automatic|  27000| 20|61.4|       2.1|\n",
      "|2016| 49948|   Automatic|   6200|555|28.0|       5.5|\n",
      "|2016| 61948|   Automatic|  16000|325|30.4|       4.0|\n",
      "|2016| 73948|   Automatic|   4000|325|30.1|       4.0|\n",
      "|2011|149948|   Automatic|   3000|570|21.4|       6.2|\n",
      "|2018| 30948|   Automatic|  16000|145|47.9|       2.1|\n",
      "|2012| 10948|   Automatic| 107000|265|36.7|       3.5|\n",
      "|2019|139948|   Automatic|  12000|145|21.4|       4.0|\n",
      "|2017| 19750|   Automatic|  15258| 30|64.2|       2.1|\n",
      "|2020| 32980|   Automatic|    606|145|35.8|       2.0|\n",
      "|2020| 26980|   Automatic|   1000|145|62.8|       1.5|\n",
      "|2019| 23750|   Automatic|    278|145|55.4|       2.0|\n",
      "|2019| 67980|   Automatic|   5500|145|21.7|       4.0|\n",
      "|2016| 18980|   Automatic|  41713|125|56.6|       2.1|\n",
      "|2017| 15890|   Automatic|  24841|150|68.9|       1.5|\n",
      "|2017| 19890|   Automatic|  30281|150|60.1|       2.1|\n",
      "|2019| 56800|   Automatic|   2483|145|29.5|       3.0|\n",
      "|2017| 17513|   Automatic|  14128|150|68.9|       2.1|\n",
      "|2014| 15701|   Automatic|  20498| 20|64.2|       2.1|\n",
      "+----+------+------------+-------+---+----+----------+\n",
      "only showing top 20 rows\n",
      "\n"
     ]
    }
   ],
   "source": [
    "filtered_df_spark.show()"
   ]
  },
  {
   "cell_type": "code",
   "execution_count": 40,
   "id": "bde222fd-cac3-428f-83b1-87733c04e3c0",
   "metadata": {},
   "outputs": [
    {
     "name": "stdout",
     "output_type": "stream",
     "text": [
      "root\n",
      " |-- year: integer (nullable = true)\n",
      " |-- price: integer (nullable = true)\n",
      " |-- transmission: string (nullable = true)\n",
      " |-- mileage: integer (nullable = true)\n",
      " |-- tax: integer (nullable = true)\n",
      " |-- mpg: double (nullable = true)\n",
      " |-- engineSize: double (nullable = true)\n",
      "\n"
     ]
    }
   ],
   "source": [
    "### Check the schema\n",
    "df_spark.printSchema()"
   ]
  },
  {
   "cell_type": "code",
   "execution_count": 41,
   "id": "27617448-2f77-423c-b3af-fd86c53907da",
   "metadata": {},
   "outputs": [
    {
     "data": {
      "text/plain": [
       "pyspark.sql.dataframe.DataFrame"
      ]
     },
     "execution_count": 41,
     "metadata": {},
     "output_type": "execute_result"
    }
   ],
   "source": [
    "type(df_spark)"
   ]
  },
  {
   "cell_type": "code",
   "execution_count": 42,
   "id": "2b99f68e-a98e-4435-9c9d-d9cf35e403ea",
   "metadata": {},
   "outputs": [
    {
     "data": {
      "text/plain": [
       "Row(year=2005, price=5200, transmission='Automatic', mileage=63000, tax=325, mpg=32.1, engineSize=1.8)"
      ]
     },
     "execution_count": 42,
     "metadata": {},
     "output_type": "execute_result"
    }
   ],
   "source": [
    "df_spark.head()"
   ]
  },
  {
   "cell_type": "code",
   "execution_count": 43,
   "id": "4e91f089-0c32-485e-b6cb-d3e2b89b4d9a",
   "metadata": {},
   "outputs": [
    {
     "data": {
      "text/plain": [
       "[Row(year=2005, price=5200, transmission='Automatic', mileage=63000, tax=325, mpg=32.1, engineSize=1.8),\n",
       " Row(year=2017, price=34948, transmission='Automatic', mileage=27000, tax=20, mpg=61.4, engineSize=2.1),\n",
       " Row(year=2016, price=49948, transmission='Automatic', mileage=6200, tax=555, mpg=28.0, engineSize=5.5)]"
      ]
     },
     "execution_count": 43,
     "metadata": {},
     "output_type": "execute_result"
    }
   ],
   "source": [
    "df_spark.head(3)"
   ]
  },
  {
   "cell_type": "code",
   "execution_count": 47,
   "id": "6fb80bcb-3827-4d1c-a25b-2b5b3dd57be9",
   "metadata": {},
   "outputs": [
    {
     "name": "stdout",
     "output_type": "stream",
     "text": [
      "+----+------+\n",
      "|year| price|\n",
      "+----+------+\n",
      "|2005|  5200|\n",
      "|2017| 34948|\n",
      "|2016| 49948|\n",
      "|2016| 61948|\n",
      "|2016| 73948|\n",
      "|2011|149948|\n",
      "|2018| 30948|\n",
      "|2012| 10948|\n",
      "|2019|139948|\n",
      "|2017| 19750|\n",
      "|2020| 32980|\n",
      "|2020| 26980|\n",
      "|2019| 23750|\n",
      "|2019| 67980|\n",
      "|2016| 18980|\n",
      "|2017| 15890|\n",
      "|2017| 19890|\n",
      "|2019| 56800|\n",
      "|2017| 17513|\n",
      "|2014| 15701|\n",
      "+----+------+\n",
      "only showing top 20 rows\n",
      "\n"
     ]
    }
   ],
   "source": [
    "df_spark.select([\"year\", \"price\"]).show()"
   ]
  },
  {
   "cell_type": "code",
   "execution_count": 52,
   "id": "9380507d-f42e-444e-a5eb-2b52b795d1e6",
   "metadata": {},
   "outputs": [
    {
     "data": {
      "text/plain": [
       "[('year', 'int'),\n",
       " ('price', 'int'),\n",
       " ('transmission', 'string'),\n",
       " ('mileage', 'int'),\n",
       " ('tax', 'int'),\n",
       " ('mpg', 'double'),\n",
       " ('engineSize', 'double')]"
      ]
     },
     "execution_count": 52,
     "metadata": {},
     "output_type": "execute_result"
    }
   ],
   "source": [
    "df_spark.dtypes"
   ]
  },
  {
   "cell_type": "code",
   "execution_count": null,
   "id": "b26f6681-b0cc-43e4-9922-a5f4644fccc5",
   "metadata": {},
   "outputs": [],
   "source": []
  }
 ],
 "metadata": {
  "kernelspec": {
   "display_name": "Python 3 (ipykernel)",
   "language": "python",
   "name": "python3"
  },
  "language_info": {
   "codemirror_mode": {
    "name": "ipython",
    "version": 3
   },
   "file_extension": ".py",
   "mimetype": "text/x-python",
   "name": "python",
   "nbconvert_exporter": "python",
   "pygments_lexer": "ipython3",
   "version": "3.11.5"
  }
 },
 "nbformat": 4,
 "nbformat_minor": 5
}
