{
 "cells": [
  {
   "cell_type": "raw",
   "id": "1f2d3222",
   "metadata": {},
   "source": [
    "numbers = [1, 2, 3, 4, 5, 6]"
   ]
  },
  {
   "cell_type": "code",
   "execution_count": 10,
   "id": "742d6ccc",
   "metadata": {},
   "outputs": [
    {
     "name": "stdout",
     "output_type": "stream",
     "text": [
      "2\n",
      "4\n",
      "6\n"
     ]
    }
   ],
   "source": [
    "for num in numbers:\n",
    "    if num % 2 == 0:\n",
    "        print(num)"
   ]
  },
  {
   "cell_type": "code",
   "execution_count": 11,
   "id": "cd4a6b10",
   "metadata": {},
   "outputs": [],
   "source": [
    "def deneme(*args):\n",
    "    return sum(args)"
   ]
  },
  {
   "cell_type": "code",
   "execution_count": 12,
   "id": "1b9af988",
   "metadata": {},
   "outputs": [
    {
     "data": {
      "text/plain": [
       "4048"
      ]
     },
     "execution_count": 12,
     "metadata": {},
     "output_type": "execute_result"
    }
   ],
   "source": [
    "deneme(45,34,534,3435)"
   ]
  },
  {
   "cell_type": "code",
   "execution_count": 13,
   "id": "ca88d542",
   "metadata": {},
   "outputs": [],
   "source": [
    "benimListem = [1,2,3,4,5,6,7,8]\n",
    "def bolme(numara):\n",
    "    return numara / 2\n"
   ]
  },
  {
   "cell_type": "code",
   "execution_count": 14,
   "id": "e167ed67",
   "metadata": {},
   "outputs": [],
   "source": [
    "yeniListe = []\n",
    "for eleman in benimListem:\n",
    "    yeniListe.append(bolme(eleman))\n"
   ]
  },
  {
   "cell_type": "code",
   "execution_count": 15,
   "id": "2f191a1d",
   "metadata": {},
   "outputs": [
    {
     "data": {
      "text/plain": [
       "[0.5, 1.0, 1.5, 2.0, 2.5, 3.0, 3.5, 4.0]"
      ]
     },
     "execution_count": 15,
     "metadata": {},
     "output_type": "execute_result"
    }
   ],
   "source": [
    "yeniListe"
   ]
  },
  {
   "cell_type": "code",
   "execution_count": 16,
   "id": "1d1542af",
   "metadata": {},
   "outputs": [],
   "source": [
    "def kontrolFonksiyonu(string):\n",
    "    return \"a\" in string"
   ]
  },
  {
   "cell_type": "code",
   "execution_count": 17,
   "id": "a6c0311a",
   "metadata": {},
   "outputs": [
    {
     "data": {
      "text/plain": [
       "True"
      ]
     },
     "execution_count": 17,
     "metadata": {},
     "output_type": "execute_result"
    }
   ],
   "source": [
    "kontrolFonksiyonu(\"sancaksız\")"
   ]
  },
  {
   "cell_type": "code",
   "execution_count": 18,
   "id": "5fdca5e6",
   "metadata": {},
   "outputs": [],
   "source": [
    "listem = [\"ahemet\" , \"yakın\" , \"levent\"]"
   ]
  },
  {
   "cell_type": "code",
   "execution_count": 19,
   "id": "90dd0669",
   "metadata": {},
   "outputs": [
    {
     "data": {
      "text/plain": [
       "[True, True, False]"
      ]
     },
     "execution_count": 19,
     "metadata": {},
     "output_type": "execute_result"
    }
   ],
   "source": [
    "list(map(kontrolFonksiyonu , listem))"
   ]
  },
  {
   "cell_type": "code",
   "execution_count": 20,
   "id": "77aae5e3",
   "metadata": {},
   "outputs": [],
   "source": [
    "sonucListesi = [list(map(kontrolFonksiyonu , listem))]"
   ]
  },
  {
   "cell_type": "code",
   "execution_count": 21,
   "id": "f4b8897e",
   "metadata": {},
   "outputs": [
    {
     "data": {
      "text/plain": [
       "[[True, True, False]]"
      ]
     },
     "execution_count": 21,
     "metadata": {},
     "output_type": "execute_result"
    }
   ],
   "source": [
    "sonucListesi"
   ]
  },
  {
   "cell_type": "code",
   "execution_count": 22,
   "id": "4034860d",
   "metadata": {},
   "outputs": [
    {
     "name": "stdout",
     "output_type": "stream",
     "text": [
      "enter your name\n"
     ]
    },
    {
     "name": "stdin",
     "output_type": "stream",
     "text": [
      " ali \n"
     ]
    },
    {
     "name": "stdout",
     "output_type": "stream",
     "text": [
      "hello ali \n"
     ]
    }
   ],
   "source": [
    "print(\"enter your name\")\n",
    "x = input()\n",
    "print(\"hello \" + x)"
   ]
  },
  {
   "cell_type": "code",
   "execution_count": 23,
   "id": "2c0f1ca4",
   "metadata": {},
   "outputs": [
    {
     "name": "stdin",
     "output_type": "stream",
     "text": [
      "enter number 10\n",
      "enter number 10\n"
     ]
    },
    {
     "name": "stdout",
     "output_type": "stream",
     "text": [
      "10.0\n"
     ]
    }
   ],
   "source": [
    "x = int(input(\"enter number\"))\n",
    "y = int(input(\"enter number\"))\n",
    "ort = (x+y)/2\n",
    "print(ort)"
   ]
  },
  {
   "cell_type": "code",
   "execution_count": 24,
   "id": "56f7edd5",
   "metadata": {},
   "outputs": [
    {
     "name": "stdout",
     "output_type": "stream",
     "text": [
      "enter your nama\n"
     ]
    },
    {
     "name": "stdin",
     "output_type": "stream",
     "text": [
      " ali\n"
     ]
    },
    {
     "name": "stdout",
     "output_type": "stream",
     "text": [
      "hello ali\n"
     ]
    }
   ],
   "source": [
    "print(\"enter your nama\")\n",
    "name = input()\n",
    "print(\"hello \" + name)"
   ]
  },
  {
   "cell_type": "code",
   "execution_count": 25,
   "id": "a95295da",
   "metadata": {},
   "outputs": [
    {
     "name": "stdout",
     "output_type": "stream",
     "text": [
      "hello\n"
     ]
    }
   ],
   "source": [
    "def fonksiyon():\n",
    "    print(\"hello\")\n",
    "    \n",
    "fonksiyon()"
   ]
  },
  {
   "cell_type": "code",
   "execution_count": 26,
   "id": "4bcf6632",
   "metadata": {},
   "outputs": [
    {
     "name": "stdout",
     "output_type": "stream",
     "text": [
      "a+b = 10\n"
     ]
    }
   ],
   "source": [
    "a = 7 \n",
    "b = 3 \n",
    "print(\"a+b\", \"=\", a+b)"
   ]
  },
  {
   "cell_type": "code",
   "execution_count": 27,
   "id": "56e55327",
   "metadata": {},
   "outputs": [
    {
     "name": "stdout",
     "output_type": "stream",
     "text": [
      "hello heberehübere\n"
     ]
    }
   ],
   "source": [
    "def hello(name):\n",
    "    print(\"hello \"+name)\n",
    "hello(\"heberehübere\")"
   ]
  },
  {
   "cell_type": "raw",
   "id": "d76e09b3",
   "metadata": {},
   "source": [
    "isim = \"btk\"\n",
    "isim[0]"
   ]
  },
  {
   "cell_type": "code",
   "execution_count": 28,
   "id": "fcb5371a",
   "metadata": {},
   "outputs": [
    {
     "data": {
      "text/plain": [
       "'t'"
      ]
     },
     "execution_count": 28,
     "metadata": {},
     "output_type": "execute_result"
    }
   ],
   "source": [
    "isim = \"btk\"\n",
    "isim[1]"
   ]
  },
  {
   "cell_type": "code",
   "execution_count": 29,
   "id": "dfb16036",
   "metadata": {},
   "outputs": [
    {
     "name": "stdout",
     "output_type": "stream",
     "text": [
      "Hello World!\n"
     ]
    }
   ],
   "source": [
    "text = \"Hello, World!\"\n",
    "part1 = text[:5]  # Slice the string from the beginning to the 5th character\n",
    "part2 = text[7:]  # Slice the string from the 7th character to the end\n",
    "print(part1, part2)\n"
   ]
  },
  {
   "cell_type": "code",
   "execution_count": 30,
   "id": "9423467f",
   "metadata": {},
   "outputs": [
    {
     "name": "stdout",
     "output_type": "stream",
     "text": [
      "Hello\n"
     ]
    }
   ],
   "source": [
    "text = \"Hello, World!\"\n",
    "part1 = text[:5]  # Slice the string from the beginning to the 5th character\n",
    "part2 = text[7:]  # Slice the string from the 7th character to the end\n",
    "print(part1)\n"
   ]
  },
  {
   "cell_type": "code",
   "execution_count": 33,
   "id": "ac3874ec",
   "metadata": {},
   "outputs": [
    {
     "name": "stdout",
     "output_type": "stream",
     "text": [
      "Merhaba, World!\n"
     ]
    }
   ],
   "source": [
    "text = \"Hello, World!\"\n",
    "text = \"Merhaba\" + text[5:]\n",
    "print(text)\n"
   ]
  },
  {
   "cell_type": "code",
   "execution_count": 34,
   "id": "cea7bc01",
   "metadata": {},
   "outputs": [
    {
     "name": "stdout",
     "output_type": "stream",
     "text": [
      "b\n",
      "t\n",
      "k\n",
      "a\n",
      "k\n",
      "a\n",
      "d\n",
      "e\n",
      "m\n",
      "i\n"
     ]
    }
   ],
   "source": [
    "for d in \"btkakademi\":\n",
    "    print(d)"
   ]
  },
  {
   "cell_type": "code",
   "execution_count": 35,
   "id": "e8e891c8",
   "metadata": {},
   "outputs": [
    {
     "data": {
      "text/plain": [
       "55"
      ]
     },
     "execution_count": 35,
     "metadata": {},
     "output_type": "execute_result"
    }
   ],
   "source": [
    "benimListem = [1,2,3,4,5,6,7,8,9,10]\n",
    "len(benimListem)\n",
    "min(benimListem)\n",
    "sum(benimListem)"
   ]
  },
  {
   "cell_type": "code",
   "execution_count": 36,
   "id": "ac595cd8",
   "metadata": {},
   "outputs": [
    {
     "data": {
      "text/plain": [
       "3.0"
      ]
     },
     "execution_count": 36,
     "metadata": {},
     "output_type": "execute_result"
    }
   ],
   "source": [
    "import math\n",
    "math.sqrt(9)"
   ]
  },
  {
   "cell_type": "markdown",
   "id": "7e03c717",
   "metadata": {},
   "source": [
    "import pandas as pd\n",
    "import numpy as np\n",
    "import matplotlib.pyplot as plt\n",
    "\n",
    "# Örnek veri seti oluşturma\n",
    "data = {\n",
    "    'Feature1': np.random.randint(0, 100, 100),\n",
    "    'Feature2': np.random.randint(0, 100, 100),\n",
    "    'Class': np.random.choice([0, 1], 100)  # 0 veya 1 değerleriyle rastgele sınıflar\n",
    "}\n",
    "df = pd.DataFrame(data)\n",
    "\n",
    "# Histogramları çizme\n",
    "cols = ['Feature1', 'Feature2']\n",
    "for label in cols:\n",
    "    plt.hist(df[df['Class'] == 1][label], color='blue', label='Class 1', alpha=0.7, density=True)\n",
    "    plt.hist(df[df['Class'] == 0][label], color='red', label='Class 0', alpha=0.7, density=True)\n",
    "    plt.xlabel(label)\n",
    "    plt.ylabel('Density')\n",
    "    plt.legend()\n",
    "    plt.show()\n"
   ]
  },
  {
   "cell_type": "code",
   "execution_count": 37,
   "id": "b482152b-e1e8-4be0-9696-6621930d00f5",
   "metadata": {},
   "outputs": [
    {
     "data": {
      "image/png": "[encoded data removed]",
      "text/plain": [
       "<Figure size 640x480 with 1 Axes>"
      ]
     },
     "metadata": {},
     "output_type": "display_data"
    },
    {
     "data": {
      "image/png": "[encoded data removed]",
      "text/plain": [
       "<Figure size 640x480 with 1 Axes>"
      ]
     },
     "metadata": {},
     "output_type": "display_data"
    }
   ],
   "source": [
    "import pandas as pd\n",
    "import numpy as np\n",
    "import matplotlib.pyplot as plt\n",
    "\n",
    "# Örnek veri seti oluşturma\n",
    "data = {\n",
    "    'Feature1': np.random.randint(0, 100, 100),\n",
    "    'Feature2': np.random.randint(0, 100, 100),\n",
    "    'Class': np.random.choice([0, 1], 100)  # 0 veya 1 değerleriyle rastgele sınıflar\n",
    "}\n",
    "df = pd.DataFrame(data)\n",
    "\n",
    "# Histogramları çizme\n",
    "cols = ['Feature1', 'Feature2']\n",
    "for label in cols:\n",
    "    plt.hist(df[df['Class'] == 1][label], color='blue', label='Class 1', alpha=0.7, density=True)\n",
    "    plt.hist(df[df['Class'] == 0][label], color='red', label='Class 0', alpha=0.7, density=True)\n",
    "    plt.xlabel(label)\n",
    "    plt.ylabel('Density')\n",
    "    plt.legend()\n",
    "    plt.show()\n"
   ]
  },
  {
   "cell_type": "code",
   "execution_count": null,
   "id": "ff9a4d49-301e-4939-8f3b-61bd8241f03f",
   "metadata": {},
   "outputs": [],
   "source": []
  }
 ],
 "metadata": {
  "kernelspec": {
   "display_name": "Python 3 (ipykernel)",
   "language": "python",
   "name": "python3"
  },
  "language_info": {
   "codemirror_mode": {
    "name": "ipython",
    "version": 3
   },
   "file_extension": ".py",
   "mimetype": "text/x-python",
   "name": "python",
   "nbconvert_exporter": "python",
   "pygments_lexer": "ipython3",
   "version": "3.11.7"
  }
 },
 "nbformat": 4,
 "nbformat_minor": 5
}
