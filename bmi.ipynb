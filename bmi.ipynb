{
 "cells": [
  {
   "cell_type": "code",
   "execution_count": 1,
   "id": "ad6aa6e3",
   "metadata": {},
   "outputs": [
    {
     "data": {
      "text/plain": [
       "3.3124000000000002"
      ]
     },
     "execution_count": 1,
     "metadata": {},
     "output_type": "execute_result"
    }
   ],
   "source": [
    "1.82*1.82\n"
   ]
  },
  {
   "cell_type": "code",
   "execution_count": 9,
   "id": "05e50607",
   "metadata": {},
   "outputs": [
    {
     "ename": "SyntaxError",
     "evalue": "cannot assign to function call here. Maybe you meant '==' instead of '='? (3397292992.py, line 1)",
     "output_type": "error",
     "traceback": [
      "\u001b[0;36m  Cell \u001b[0;32mIn[9], line 1\u001b[0;36m\u001b[0m\n\u001b[0;31m    int(height) = input(\"enter your heigt\")\u001b[0m\n\u001b[0m    ^\u001b[0m\n\u001b[0;31mSyntaxError\u001b[0m\u001b[0;31m:\u001b[0m cannot assign to function call here. Maybe you meant '==' instead of '='?\n"
     ]
    }
   ],
   "source": [
    "height = input(\"enter your heigt\")\n",
    "weight = input(\"enter your weight\")\n"
   ]
  },
  {
   "cell_type": "code",
   "execution_count": 1,
   "id": "8f3b9c8b",
   "metadata": {},
   "outputs": [
    {
     "name": "stdout",
     "output_type": "stream",
     "text": [
      "Please! enter a heigt1.90\n",
      "Please! enter a weight90\n",
      "24.930747922437675\n"
     ]
    }
   ],
   "source": [
    "height = float(input(\"Please! enter a heigt\"))\n",
    "weight = int(input(\"Please! enter a weight\"))\n",
    "\n",
    "bmi = weight/ float(height*height)\n",
    "print(bmi)"
   ]
  },
  {
   "cell_type": "code",
   "execution_count": 2,
   "id": "26ae7dbe",
   "metadata": {},
   "outputs": [
    {
     "name": "stdout",
     "output_type": "stream",
     "text": [
      "Please! enter a heigt1.90\n",
      "Please! enter a weight90\n",
      "your bmi = 24.930747922437675\n"
     ]
    }
   ],
   "source": [
    "height = float(input(\"Please! enter a heigt\"))\n",
    "weight = int(input(\"Please! enter a weight\"))\n",
    "\n",
    "bmi = weight/ float(height*height)\n",
    "print(f\"your bmi = {bmi}\")\n",
    "\n",
    "if bmi<18.5\n",
    "\n"
   ]
  },
  {
   "cell_type": "code",
   "execution_count": null,
   "id": "37aeddb4",
   "metadata": {},
   "outputs": [],
   "source": []
  }
 ],
 "metadata": {
  "kernelspec": {
   "display_name": "Python 3 (ipykernel)",
   "language": "python",
   "name": "python3"
  },
  "language_info": {
   "codemirror_mode": {
    "name": "ipython",
    "version": 3
   },
   "file_extension": ".py",
   "mimetype": "text/x-python",
   "name": "python",
   "nbconvert_exporter": "python",
   "pygments_lexer": "ipython3",
   "version": "3.11.4"
  }
 },
 "nbformat": 4,
 "nbformat_minor": 5
}
