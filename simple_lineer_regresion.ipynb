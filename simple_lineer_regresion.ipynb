{
 "cells": [
  {
   "cell_type": "code",
   "execution_count": 1,
   "id": "d79a494a-b33c-4236-b35e-b6e197f5cd5e",
   "metadata": {},
   "outputs": [],
   "source": [
    "import numpy as np\n",
    "import pandas as pd\n",
    "from sklearn.linear_model import LinearRegression\n",
    "from sklearn.metrics import mean_squared_error\n",
    "import matplotlib.pyplot as plt\n",
    "from sklearn.model_selection import train_test_split\n",
    "from sklearn.preprocessing import StandardScaler\n"
   ]
  },
  {
   "cell_type": "code",
   "execution_count": 2,
   "id": "ea5a4849-f3ef-43f3-9e42-507937b07c20",
   "metadata": {},
   "outputs": [],
   "source": [
    "data = pd.read_csv(\"satislar.csv\")"
   ]
  },
  {
   "cell_type": "code",
   "execution_count": 3,
   "id": "a2b94f66-f7f0-4694-a5e7-b964b0116d21",
   "metadata": {},
   "outputs": [
    {
     "data": {
      "text/html": [
       "<div>\n",
       "<style scoped>\n",
       "    .dataframe tbody tr th:only-of-type {\n",
       "        vertical-align: middle;\n",
       "    }\n",
       "\n",
       "    .dataframe tbody tr th {\n",
       "        vertical-align: top;\n",
       "    }\n",
       "\n",
       "    .dataframe thead th {\n",
       "        text-align: right;\n",
       "    }\n",
       "</style>\n",
       "<table border=\"1\" class=\"dataframe\">\n",
       "  <thead>\n",
       "    <tr style=\"text-align: right;\">\n",
       "      <th></th>\n",
       "      <th>Aylar</th>\n",
       "      <th>Satislar</th>\n",
       "    </tr>\n",
       "  </thead>\n",
       "  <tbody>\n",
       "    <tr>\n",
       "      <th>0</th>\n",
       "      <td>8</td>\n",
       "      <td>19671.5</td>\n",
       "    </tr>\n",
       "    <tr>\n",
       "      <th>1</th>\n",
       "      <td>10</td>\n",
       "      <td>23102.5</td>\n",
       "    </tr>\n",
       "    <tr>\n",
       "      <th>2</th>\n",
       "      <td>11</td>\n",
       "      <td>18865.5</td>\n",
       "    </tr>\n",
       "    <tr>\n",
       "      <th>3</th>\n",
       "      <td>13</td>\n",
       "      <td>21762.5</td>\n",
       "    </tr>\n",
       "    <tr>\n",
       "      <th>4</th>\n",
       "      <td>14</td>\n",
       "      <td>19945.5</td>\n",
       "    </tr>\n",
       "    <tr>\n",
       "      <th>5</th>\n",
       "      <td>19</td>\n",
       "      <td>28321.0</td>\n",
       "    </tr>\n",
       "    <tr>\n",
       "      <th>6</th>\n",
       "      <td>19</td>\n",
       "      <td>30075.0</td>\n",
       "    </tr>\n",
       "    <tr>\n",
       "      <th>7</th>\n",
       "      <td>20</td>\n",
       "      <td>27222.5</td>\n",
       "    </tr>\n",
       "    <tr>\n",
       "      <th>8</th>\n",
       "      <td>20</td>\n",
       "      <td>32222.5</td>\n",
       "    </tr>\n",
       "    <tr>\n",
       "      <th>9</th>\n",
       "      <td>24</td>\n",
       "      <td>28594.5</td>\n",
       "    </tr>\n",
       "    <tr>\n",
       "      <th>10</th>\n",
       "      <td>25</td>\n",
       "      <td>31609.0</td>\n",
       "    </tr>\n",
       "    <tr>\n",
       "      <th>11</th>\n",
       "      <td>25</td>\n",
       "      <td>27897.0</td>\n",
       "    </tr>\n",
       "    <tr>\n",
       "      <th>12</th>\n",
       "      <td>25</td>\n",
       "      <td>28478.5</td>\n",
       "    </tr>\n",
       "    <tr>\n",
       "      <th>13</th>\n",
       "      <td>26</td>\n",
       "      <td>28540.5</td>\n",
       "    </tr>\n",
       "    <tr>\n",
       "      <th>14</th>\n",
       "      <td>29</td>\n",
       "      <td>30555.5</td>\n",
       "    </tr>\n",
       "    <tr>\n",
       "      <th>15</th>\n",
       "      <td>31</td>\n",
       "      <td>33969.0</td>\n",
       "    </tr>\n",
       "    <tr>\n",
       "      <th>16</th>\n",
       "      <td>32</td>\n",
       "      <td>33014.5</td>\n",
       "    </tr>\n",
       "    <tr>\n",
       "      <th>17</th>\n",
       "      <td>34</td>\n",
       "      <td>41544.0</td>\n",
       "    </tr>\n",
       "    <tr>\n",
       "      <th>18</th>\n",
       "      <td>37</td>\n",
       "      <td>40681.5</td>\n",
       "    </tr>\n",
       "    <tr>\n",
       "      <th>19</th>\n",
       "      <td>37</td>\n",
       "      <td>4697.0</td>\n",
       "    </tr>\n",
       "    <tr>\n",
       "      <th>20</th>\n",
       "      <td>42</td>\n",
       "      <td>45869.0</td>\n",
       "    </tr>\n",
       "    <tr>\n",
       "      <th>21</th>\n",
       "      <td>44</td>\n",
       "      <td>49136.5</td>\n",
       "    </tr>\n",
       "    <tr>\n",
       "      <th>22</th>\n",
       "      <td>49</td>\n",
       "      <td>50651.0</td>\n",
       "    </tr>\n",
       "    <tr>\n",
       "      <th>23</th>\n",
       "      <td>50</td>\n",
       "      <td>56906.0</td>\n",
       "    </tr>\n",
       "    <tr>\n",
       "      <th>24</th>\n",
       "      <td>54</td>\n",
       "      <td>54715.5</td>\n",
       "    </tr>\n",
       "    <tr>\n",
       "      <th>25</th>\n",
       "      <td>55</td>\n",
       "      <td>52791.0</td>\n",
       "    </tr>\n",
       "    <tr>\n",
       "      <th>26</th>\n",
       "      <td>59</td>\n",
       "      <td>58484.5</td>\n",
       "    </tr>\n",
       "    <tr>\n",
       "      <th>27</th>\n",
       "      <td>59</td>\n",
       "      <td>56317.5</td>\n",
       "    </tr>\n",
       "    <tr>\n",
       "      <th>28</th>\n",
       "      <td>64</td>\n",
       "      <td>61195.5</td>\n",
       "    </tr>\n",
       "    <tr>\n",
       "      <th>29</th>\n",
       "      <td>65</td>\n",
       "      <td>60936.0</td>\n",
       "    </tr>\n",
       "  </tbody>\n",
       "</table>\n",
       "</div>"
      ],
      "text/plain": [
       "    Aylar  Satislar\n",
       "0       8   19671.5\n",
       "1      10   23102.5\n",
       "2      11   18865.5\n",
       "3      13   21762.5\n",
       "4      14   19945.5\n",
       "5      19   28321.0\n",
       "6      19   30075.0\n",
       "7      20   27222.5\n",
       "8      20   32222.5\n",
       "9      24   28594.5\n",
       "10     25   31609.0\n",
       "11     25   27897.0\n",
       "12     25   28478.5\n",
       "13     26   28540.5\n",
       "14     29   30555.5\n",
       "15     31   33969.0\n",
       "16     32   33014.5\n",
       "17     34   41544.0\n",
       "18     37   40681.5\n",
       "19     37    4697.0\n",
       "20     42   45869.0\n",
       "21     44   49136.5\n",
       "22     49   50651.0\n",
       "23     50   56906.0\n",
       "24     54   54715.5\n",
       "25     55   52791.0\n",
       "26     59   58484.5\n",
       "27     59   56317.5\n",
       "28     64   61195.5\n",
       "29     65   60936.0"
      ]
     },
     "execution_count": 3,
     "metadata": {},
     "output_type": "execute_result"
    }
   ],
   "source": [
    "data"
   ]
  },
  {
   "cell_type": "code",
   "execution_count": 4,
   "id": "5ff63f64-f961-413b-9399-556113bd37b7",
   "metadata": {},
   "outputs": [],
   "source": [
    "aylar = data[\"Aylar\"]"
   ]
  },
  {
   "cell_type": "code",
   "execution_count": 5,
   "id": "b8dfd6ea-8cbd-4a33-9bda-d3a75021b78e",
   "metadata": {},
   "outputs": [],
   "source": [
    "satislar = data[\"Satislar\"]"
   ]
  },
  {
   "cell_type": "code",
   "execution_count": 6,
   "id": "0e8eb984-0328-4ddf-b241-d96f4f1ab6b0",
   "metadata": {},
   "outputs": [],
   "source": [
    "X_train, X_test, y_train, y_test = train_test_split(aylar, satislar, test_size=0.8, random_state=42)\n"
   ]
  },
  {
   "cell_type": "code",
   "execution_count": 9,
   "id": "4d0c7c3d-9a01-4cb7-a8d8-00294c7bbf4e",
   "metadata": {},
   "outputs": [
    {
     "name": "stdout",
     "output_type": "stream",
     "text": [
      "Shape of X_train after reshape: (6, 1)\n",
      "Shape of X_test after reshape: (24, 1)\n",
      "Shape of y_test after reshape: (24, 1)\n"
     ]
    }
   ],
   "source": [
    "X_train = X_train.reshape(-1, 1)  # Reshape to a 2D array with one feature\n",
    "X_test = X_test.reshape(-1, 1)    # Reshape to a 2D array with one feature\n",
    "y_test = y_test.reshape(-1, 1)    # Reshape to a 2D array with one target\n",
    "\n",
    "# Example: Print the shapes to verify\n",
    "print(\"Shape of X_train after reshape:\", X_train.shape)\n",
    "print(\"Shape of X_test after reshape:\", X_test.shape)\n",
    "print(\"Shape of y_test after reshape:\", y_test.shape)\n"
   ]
  },
  {
   "cell_type": "markdown",
   "id": "d93c028c-8b43-4d7f-9601-a888296a3f00",
   "metadata": {},
   "source": [
    "# Model Training"
   ]
  },
  {
   "cell_type": "code",
   "execution_count": 10,
   "id": "6de85754-b2ed-4ada-a4fb-ce5d5acb33f0",
   "metadata": {},
   "outputs": [
    {
     "name": "stdout",
     "output_type": "stream",
     "text": [
      "[29635.20923913 28437.78532609 29250.32298137 28566.08074534\n",
      " 27967.36878882 28138.42934783 29849.03493789 29421.38354037\n",
      " 28181.19448758 27454.1871118  27710.77795031 28480.55046584\n",
      " 27924.60364907 28223.95962733 28181.19448758 29207.55784161\n",
      " 27539.7173913  27582.48253106 29464.14868012 27668.01281056\n",
      " 28993.73214286 29635.20923913 28694.3761646  29891.80007764]\n"
     ]
    }
   ],
   "source": [
    "model = LinearRegression()\n",
    "model.fit(X_train,y_train)\n",
    "predict = model.predict(X_test)\n",
    "print(predict)"
   ]
  },
  {
   "cell_type": "code",
   "execution_count": 11,
   "id": "3ec9d7f5-8271-4614-89aa-f8f3155b5966",
   "metadata": {},
   "outputs": [
    {
     "data": {
      "image/png": "[encoded data removed]",
      "text/plain": [
       "<Figure size 640x480 with 1 Axes>"
      ]
     },
     "metadata": {},
     "output_type": "display_data"
    }
   ],
   "source": [
    "# Scatter plot of actual vs predicted values\n",
    "plt.scatter(X_test, y_test, color='blue', label='Actual')\n",
    "plt.scatter(X_test, predict, color='red', label='Predicted')\n",
    "plt.xlabel('X_test')\n",
    "plt.ylabel('Target')\n",
    "plt.title('Actual vs Predicted')\n",
    "plt.legend()\n",
    "plt.show()\n"
   ]
  },
  {
   "cell_type": "code",
   "execution_count": 70,
   "id": "7b83752d-1a7d-4686-a377-ffba4a5fb38e",
   "metadata": {},
   "outputs": [
    {
     "data": {
      "text/plain": [
       "[<matplotlib.lines.Line2D at 0x31851cd90>]"
      ]
     },
     "execution_count": 70,
     "metadata": {},
     "output_type": "execute_result"
    },
    {
     "data": {
      "image/png": "[encoded data removed]",
      "text/plain": [
       "<Figure size 640x480 with 1 Axes>"
      ]
     },
     "metadata": {},
     "output_type": "display_data"
    }
   ],
   "source": [
    "plt.plot(X_test,model.predict(X_test))\n",
    "#grafikler büyük ihtimalle hatalı"
   ]
  },
  {
   "cell_type": "code",
   "execution_count": null,
   "id": "d365ec55-9eb9-4618-9017-2d6ac413ce3b",
   "metadata": {},
   "outputs": [],
   "source": []
  },
  {
   "cell_type": "code",
   "execution_count": null,
   "id": "1b1ffaf6-0b03-4c1c-adc4-68a377cff802",
   "metadata": {},
   "outputs": [],
   "source": []
  }
 ],
 "metadata": {
  "kernelspec": {
   "display_name": "Python 3 (ipykernel)",
   "language": "python",
   "name": "python3"
  },
  "language_info": {
   "codemirror_mode": {
    "name": "ipython",
    "version": 3
   },
   "file_extension": ".py",
   "mimetype": "text/x-python",
   "name": "python",
   "nbconvert_exporter": "python",
   "pygments_lexer": "ipython3",
   "version": "3.11.7"
  }
 },
 "nbformat": 4,
 "nbformat_minor": 5
}
