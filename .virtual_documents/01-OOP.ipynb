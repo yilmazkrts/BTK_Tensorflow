class SuperKahraman():
    def __init__(self,isim,yas,meslek):
        self.isim = isim
        self.yas = yas
        self.meslek = meslek
        
            
    def ornekMethod(self):
        print(f"benim mesleğim: {self.meslek} ")


superman = SuperKahraman("Clark Kent",30,"Gazeteci")


superman.isim


superman.ornekMethod()


class Person():
    def __init__(self,name,lastname,personNumber):
        self.name = name
        self.lastname = lastname
        self.personenumber = personNumber
        
    def denemeMethod(self):
        print("Örnek Method")


ali = Person("Ali","HAZIR",1)   # Yapıcı metot, sınıfın başlatılmasını ve özelliklerin (attributes) atanmasını sağlar. 
veli = Person("Veli","DEĞİL",2) #Bu durumda, name ve age adında iki özellik (attribute) tanımlanmış.
ahmet = Person("Ahmet","YAZIR",3)


ali.name


ali.denemeMethod()



